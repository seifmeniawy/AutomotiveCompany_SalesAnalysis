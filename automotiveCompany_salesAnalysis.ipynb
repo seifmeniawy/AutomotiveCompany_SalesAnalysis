{
 "cells": [
  {
   "cell_type": "markdown",
   "id": "64d53a2f-46c3-45d3-a95e-24f4c6907a76",
   "metadata": {
    "tags": []
   },
   "source": [
    "# Automotive Company Sales Analysis: \n",
    "\n",
    "This report includes exploratory data analysis on sales data for an automotive company based on 3 years of operations (2003, 2004, 2005). This report will aim to answer several questions, which will help us gain insight, and find out if there any deficiencies in the business process, to improve business performance.\n",
    ">This report will include a Tableau dashboard for more in depth data visualization and insights.\n",
    "\n",
    "## Table of Contents:\n",
    "<ul>\n",
    "    <li><a href='#datawrang'>Data Wrangling</a></li>\n",
    "    <li><a href='#dataclean'>Data Cleaning</a></li>\n",
    "    <li><a href='#data_anal'>Exploratory Data Analysis</a></li>\n",
    "    <li><a href='#final'>Data Finalization</a></li>\n",
    "</ul>"
   ]
  },
  {
   "cell_type": "markdown",
   "id": "fdb1ce75-b2aa-4d29-bca5-25e7a73e6210",
   "metadata": {},
   "source": [
    "<a id='datawrang'></a>\n",
    "### Data Wrangling"
   ]
  },
  {
   "cell_type": "code",
   "execution_count": 1,
   "id": "ba7133a2-c180-4f3d-9e13-23f9c589c9eb",
   "metadata": {},
   "outputs": [],
   "source": [
    "import numpy as np\n",
    "import pandas as pd\n",
    "import seaborn as sns\n",
    "from datetime import datetime\n",
    "\n",
    "import matplotlib.pyplot as plt\n",
    "%matplotlib inline"
   ]
  },
  {
   "cell_type": "code",
   "execution_count": 2,
   "id": "cc542b01-fb91-4502-bf54-941f294239a1",
   "metadata": {},
   "outputs": [],
   "source": [
    "# pd.set_option('display.max_rows', None)\n",
    "pd.set_option('display.max_columns', None)\n",
    "\n",
    "## this is used to show all contents of the output cell, instead of having [...] and the output truncated.\n",
    "## If you don't want it, leave it commented it out.\n",
    "\n",
    "## Alternatively, if you would like this to be permenant, you would have to make changes \n",
    "## to the ipython_config.py file in profile.default"
   ]
  },
  {
   "cell_type": "code",
   "execution_count": 3,
   "id": "c14cd608-30d2-4540-b235-1e53c5167413",
   "metadata": {},
   "outputs": [],
   "source": [
    "df = pd.read_csv('./DataSource-main/sales_data.csv')\n",
    "\n",
    "# if relative path does not work, you can change file path above & insert file path for \n",
    "# 'sales_data_sample.csv' located in 'DataSource-main' folder in this directory."
   ]
  },
  {
   "cell_type": "code",
   "execution_count": 4,
   "id": "8e2763a5-3cc5-443e-bbbb-c69016f43dfc",
   "metadata": {},
   "outputs": [
    {
     "data": {
      "text/html": [
       "<div>\n",
       "<style scoped>\n",
       "    .dataframe tbody tr th:only-of-type {\n",
       "        vertical-align: middle;\n",
       "    }\n",
       "\n",
       "    .dataframe tbody tr th {\n",
       "        vertical-align: top;\n",
       "    }\n",
       "\n",
       "    .dataframe thead th {\n",
       "        text-align: right;\n",
       "    }\n",
       "</style>\n",
       "<table border=\"1\" class=\"dataframe\">\n",
       "  <thead>\n",
       "    <tr style=\"text-align: right;\">\n",
       "      <th></th>\n",
       "      <th>ORDERNUMBER</th>\n",
       "      <th>QUANTITYORDERED</th>\n",
       "      <th>PRICEEACH</th>\n",
       "      <th>ORDERLINENUMBER</th>\n",
       "      <th>SALES</th>\n",
       "      <th>ORDERDATE</th>\n",
       "      <th>STATUS</th>\n",
       "      <th>QTR_ID</th>\n",
       "      <th>MONTH_ID</th>\n",
       "      <th>YEAR_ID</th>\n",
       "      <th>PRODUCTLINE</th>\n",
       "      <th>MSRP</th>\n",
       "      <th>PRODUCTCODE</th>\n",
       "      <th>CUSTOMERNAME</th>\n",
       "      <th>PHONE</th>\n",
       "      <th>ADDRESSLINE1</th>\n",
       "      <th>ADDRESSLINE2</th>\n",
       "      <th>CITY</th>\n",
       "      <th>STATE</th>\n",
       "      <th>POSTALCODE</th>\n",
       "      <th>COUNTRY</th>\n",
       "      <th>TERRITORY</th>\n",
       "      <th>CONTACTLASTNAME</th>\n",
       "      <th>CONTACTFIRSTNAME</th>\n",
       "      <th>DEALSIZE</th>\n",
       "    </tr>\n",
       "  </thead>\n",
       "  <tbody>\n",
       "    <tr>\n",
       "      <th>0</th>\n",
       "      <td>10107</td>\n",
       "      <td>30</td>\n",
       "      <td>95.70</td>\n",
       "      <td>2</td>\n",
       "      <td>2871.0</td>\n",
       "      <td>2/24/2003 0:00</td>\n",
       "      <td>Shipped</td>\n",
       "      <td>1</td>\n",
       "      <td>2</td>\n",
       "      <td>2003</td>\n",
       "      <td>Motorcycles</td>\n",
       "      <td>95</td>\n",
       "      <td>S10_1678</td>\n",
       "      <td>Land of Toys Inc.</td>\n",
       "      <td>2125557818</td>\n",
       "      <td>897 Long Airport Avenue</td>\n",
       "      <td>NaN</td>\n",
       "      <td>NYC</td>\n",
       "      <td>NY</td>\n",
       "      <td>10022</td>\n",
       "      <td>USA</td>\n",
       "      <td>NaN</td>\n",
       "      <td>Yu</td>\n",
       "      <td>Kwai</td>\n",
       "      <td>Small</td>\n",
       "    </tr>\n",
       "    <tr>\n",
       "      <th>1</th>\n",
       "      <td>10121</td>\n",
       "      <td>34</td>\n",
       "      <td>81.35</td>\n",
       "      <td>5</td>\n",
       "      <td>2765.9</td>\n",
       "      <td>05/07/2003</td>\n",
       "      <td>Shipped</td>\n",
       "      <td>2</td>\n",
       "      <td>5</td>\n",
       "      <td>2003</td>\n",
       "      <td>Motorcycles</td>\n",
       "      <td>95</td>\n",
       "      <td>S10_1678</td>\n",
       "      <td>Reims Collectables</td>\n",
       "      <td>26.47.1555</td>\n",
       "      <td>59 rue de l'Abbaye</td>\n",
       "      <td>NaN</td>\n",
       "      <td>Reims</td>\n",
       "      <td>NaN</td>\n",
       "      <td>51100</td>\n",
       "      <td>France</td>\n",
       "      <td>EMEA</td>\n",
       "      <td>Henriot</td>\n",
       "      <td>Paul</td>\n",
       "      <td>Small</td>\n",
       "    </tr>\n",
       "  </tbody>\n",
       "</table>\n",
       "</div>"
      ],
      "text/plain": [
       "   ORDERNUMBER  QUANTITYORDERED  PRICEEACH  ORDERLINENUMBER   SALES  \\\n",
       "0        10107               30      95.70                2  2871.0   \n",
       "1        10121               34      81.35                5  2765.9   \n",
       "\n",
       "        ORDERDATE   STATUS  QTR_ID  MONTH_ID  YEAR_ID  PRODUCTLINE  MSRP  \\\n",
       "0  2/24/2003 0:00  Shipped       1         2     2003  Motorcycles    95   \n",
       "1      05/07/2003  Shipped       2         5     2003  Motorcycles    95   \n",
       "\n",
       "  PRODUCTCODE        CUSTOMERNAME       PHONE             ADDRESSLINE1  \\\n",
       "0    S10_1678   Land of Toys Inc.  2125557818  897 Long Airport Avenue   \n",
       "1    S10_1678  Reims Collectables  26.47.1555       59 rue de l'Abbaye   \n",
       "\n",
       "  ADDRESSLINE2   CITY STATE POSTALCODE COUNTRY TERRITORY CONTACTLASTNAME  \\\n",
       "0          NaN    NYC    NY      10022     USA       NaN              Yu   \n",
       "1          NaN  Reims   NaN      51100  France      EMEA         Henriot   \n",
       "\n",
       "  CONTACTFIRSTNAME DEALSIZE  \n",
       "0             Kwai    Small  \n",
       "1             Paul    Small  "
      ]
     },
     "execution_count": 4,
     "metadata": {},
     "output_type": "execute_result"
    }
   ],
   "source": [
    "df.head(2)"
   ]
  },
  {
   "cell_type": "code",
   "execution_count": 5,
   "id": "c32b974e-211e-4ba7-9f13-477d6ff65e4a",
   "metadata": {},
   "outputs": [
    {
     "name": "stdout",
     "output_type": "stream",
     "text": [
      "<class 'pandas.core.frame.DataFrame'>\n",
      "RangeIndex: 2823 entries, 0 to 2822\n",
      "Data columns (total 25 columns):\n",
      " #   Column            Non-Null Count  Dtype  \n",
      "---  ------            --------------  -----  \n",
      " 0   ORDERNUMBER       2823 non-null   int64  \n",
      " 1   QUANTITYORDERED   2823 non-null   int64  \n",
      " 2   PRICEEACH         2823 non-null   float64\n",
      " 3   ORDERLINENUMBER   2823 non-null   int64  \n",
      " 4   SALES             2823 non-null   float64\n",
      " 5   ORDERDATE         2823 non-null   object \n",
      " 6   STATUS            2823 non-null   object \n",
      " 7   QTR_ID            2823 non-null   int64  \n",
      " 8   MONTH_ID          2823 non-null   int64  \n",
      " 9   YEAR_ID           2823 non-null   int64  \n",
      " 10  PRODUCTLINE       2823 non-null   object \n",
      " 11  MSRP              2823 non-null   int64  \n",
      " 12  PRODUCTCODE       2823 non-null   object \n",
      " 13  CUSTOMERNAME      2823 non-null   object \n",
      " 14  PHONE             2823 non-null   object \n",
      " 15  ADDRESSLINE1      2823 non-null   object \n",
      " 16  ADDRESSLINE2      302 non-null    object \n",
      " 17  CITY              2823 non-null   object \n",
      " 18  STATE             1337 non-null   object \n",
      " 19  POSTALCODE        2747 non-null   object \n",
      " 20  COUNTRY           2823 non-null   object \n",
      " 21  TERRITORY         1749 non-null   object \n",
      " 22  CONTACTLASTNAME   2823 non-null   object \n",
      " 23  CONTACTFIRSTNAME  2823 non-null   object \n",
      " 24  DEALSIZE          2823 non-null   object \n",
      "dtypes: float64(2), int64(7), object(16)\n",
      "memory usage: 551.5+ KB\n"
     ]
    }
   ],
   "source": [
    "df.info()"
   ]
  },
  {
   "cell_type": "code",
   "execution_count": 6,
   "id": "3f689ad9-c8ba-4a3c-8732-83625b08cb0a",
   "metadata": {},
   "outputs": [
    {
     "data": {
      "text/plain": [
       "(2823, 25)"
      ]
     },
     "execution_count": 6,
     "metadata": {},
     "output_type": "execute_result"
    }
   ],
   "source": [
    "df.shape"
   ]
  },
  {
   "cell_type": "code",
   "execution_count": 7,
   "id": "5bf8e33c-94b1-4889-b56c-c8847b27ca09",
   "metadata": {},
   "outputs": [
    {
     "data": {
      "text/plain": [
       "0"
      ]
     },
     "execution_count": 7,
     "metadata": {},
     "output_type": "execute_result"
    }
   ],
   "source": [
    "df.duplicated().sum()"
   ]
  },
  {
   "cell_type": "markdown",
   "id": "7dd85575-4fe7-4886-9d73-b211d913469f",
   "metadata": {},
   "source": [
    "<a id='isnull_sum'></a>\n",
    "<br>\n",
    "We will check to see if there are any missing values in the dataset, and whether those missing values have any significance on the accuracy of the data."
   ]
  },
  {
   "cell_type": "code",
   "execution_count": 8,
   "id": "cf048d00-c419-4a54-bcfa-b1eb87ce0e9b",
   "metadata": {},
   "outputs": [
    {
     "data": {
      "text/plain": [
       "ORDERNUMBER            0\n",
       "QUANTITYORDERED        0\n",
       "PRICEEACH              0\n",
       "ORDERLINENUMBER        0\n",
       "SALES                  0\n",
       "ORDERDATE              0\n",
       "STATUS                 0\n",
       "QTR_ID                 0\n",
       "MONTH_ID               0\n",
       "YEAR_ID                0\n",
       "PRODUCTLINE            0\n",
       "MSRP                   0\n",
       "PRODUCTCODE            0\n",
       "CUSTOMERNAME           0\n",
       "PHONE                  0\n",
       "ADDRESSLINE1           0\n",
       "ADDRESSLINE2        2521\n",
       "CITY                   0\n",
       "STATE               1486\n",
       "POSTALCODE            76\n",
       "COUNTRY                0\n",
       "TERRITORY           1074\n",
       "CONTACTLASTNAME        0\n",
       "CONTACTFIRSTNAME       0\n",
       "DEALSIZE               0\n",
       "dtype: int64"
      ]
     },
     "execution_count": 8,
     "metadata": {},
     "output_type": "execute_result"
    }
   ],
   "source": [
    "df.isnull().sum()"
   ]
  },
  {
   "cell_type": "markdown",
   "id": "45f711cd-acf5-4cc4-b5fe-60b626aa04a7",
   "metadata": {},
   "source": [
    "> By observing the NaN values, we can see for example that 'Territory' has 1074 values missing. Those missing values may prove signifcant because maybe who entered the data for a specific country did not enter data for the territory, so that may reflect inaccurate results if we wanted to know which territory has the highest sales.\n",
    "\n",
    "> However, they can be ignored and it wouldn't affect the accuracy of the dataset. Upon further exploration, demonstrated below, we find that NaN values in 'Territory' belong to multiple countries that have other values that are assigned a territory. This can reflect inaccurate results when comparing territories.\n",
    "\n",
    "> Furthermore, we can find that the remaining NaN values for 'Address Line 2' & 'Postal Code' have no significance and are negligible."
   ]
  },
  {
   "cell_type": "code",
   "execution_count": 9,
   "id": "bdb69fc5-d566-4743-b451-61e3b4a64993",
   "metadata": {},
   "outputs": [
    {
     "data": {
      "text/plain": [
       "USA            1004\n",
       "Spain           342\n",
       "France          314\n",
       "Australia       185\n",
       "UK              144\n",
       "Italy           113\n",
       "Finland          92\n",
       "Norway           85\n",
       "Singapore        79\n",
       "Canada           70\n",
       "Denmark          63\n",
       "Germany          62\n",
       "Sweden           57\n",
       "Austria          55\n",
       "Japan            52\n",
       "Belgium          33\n",
       "Switzerland      31\n",
       "Philippines      26\n",
       "Ireland          16\n",
       "Name: COUNTRY, dtype: int64"
      ]
     },
     "execution_count": 9,
     "metadata": {},
     "output_type": "execute_result"
    }
   ],
   "source": [
    "df['COUNTRY'].value_counts()"
   ]
  },
  {
   "cell_type": "code",
   "execution_count": 10,
   "id": "871bc478-9c4a-4123-a794-b6c89712f586",
   "metadata": {},
   "outputs": [
    {
     "data": {
      "text/plain": [
       "Classic Cars        967\n",
       "Vintage Cars        607\n",
       "Motorcycles         331\n",
       "Planes              306\n",
       "Trucks and Buses    301\n",
       "Ships               234\n",
       "Trains               77\n",
       "Name: PRODUCTLINE, dtype: int64"
      ]
     },
     "execution_count": 10,
     "metadata": {},
     "output_type": "execute_result"
    }
   ],
   "source": [
    "df['PRODUCTLINE'].value_counts()"
   ]
  },
  {
   "cell_type": "markdown",
   "id": "d7a19549-802a-457a-b9a1-088303e821b4",
   "metadata": {},
   "source": [
    "> By now, we have established an overview of the data, next we move on to cleaning the problematic aspects of the data that might give us a hard time later when importing the data into a mysql database and conducting further analysis using Tableau."
   ]
  },
  {
   "cell_type": "markdown",
   "id": "b824a22f-cbbb-4c3e-ad76-0325a634186f",
   "metadata": {},
   "source": [
    "<a id='dataclean'></a>\n",
    "### Data Cleaning"
   ]
  },
  {
   "cell_type": "code",
   "execution_count": 11,
   "id": "f6f3c54b-d9fb-48d0-827c-49e789b4a062",
   "metadata": {},
   "outputs": [
    {
     "data": {
      "text/html": [
       "<div>\n",
       "<style scoped>\n",
       "    .dataframe tbody tr th:only-of-type {\n",
       "        vertical-align: middle;\n",
       "    }\n",
       "\n",
       "    .dataframe tbody tr th {\n",
       "        vertical-align: top;\n",
       "    }\n",
       "\n",
       "    .dataframe thead th {\n",
       "        text-align: right;\n",
       "    }\n",
       "</style>\n",
       "<table border=\"1\" class=\"dataframe\">\n",
       "  <thead>\n",
       "    <tr style=\"text-align: right;\">\n",
       "      <th></th>\n",
       "      <th>ORDERNUMBER</th>\n",
       "      <th>QUANTITYORDERED</th>\n",
       "      <th>PRICEEACH</th>\n",
       "      <th>ORDERLINENUMBER</th>\n",
       "      <th>SALES</th>\n",
       "      <th>ORDERDATE</th>\n",
       "      <th>STATUS</th>\n",
       "      <th>QTR_ID</th>\n",
       "      <th>MONTH_ID</th>\n",
       "      <th>YEAR_ID</th>\n",
       "      <th>PRODUCTLINE</th>\n",
       "      <th>MSRP</th>\n",
       "      <th>PRODUCTCODE</th>\n",
       "      <th>CUSTOMERNAME</th>\n",
       "      <th>PHONE</th>\n",
       "      <th>ADDRESSLINE1</th>\n",
       "      <th>ADDRESSLINE2</th>\n",
       "      <th>CITY</th>\n",
       "      <th>STATE</th>\n",
       "      <th>POSTALCODE</th>\n",
       "      <th>COUNTRY</th>\n",
       "      <th>TERRITORY</th>\n",
       "      <th>CONTACTLASTNAME</th>\n",
       "      <th>CONTACTFIRSTNAME</th>\n",
       "      <th>DEALSIZE</th>\n",
       "    </tr>\n",
       "  </thead>\n",
       "  <tbody>\n",
       "    <tr>\n",
       "      <th>0</th>\n",
       "      <td>10107</td>\n",
       "      <td>30</td>\n",
       "      <td>95.7</td>\n",
       "      <td>2</td>\n",
       "      <td>2871.0</td>\n",
       "      <td>2/24/2003 0:00</td>\n",
       "      <td>Shipped</td>\n",
       "      <td>1</td>\n",
       "      <td>2</td>\n",
       "      <td>2003</td>\n",
       "      <td>Motorcycles</td>\n",
       "      <td>95</td>\n",
       "      <td>S10_1678</td>\n",
       "      <td>Land of Toys Inc.</td>\n",
       "      <td>2125557818</td>\n",
       "      <td>897 Long Airport Avenue</td>\n",
       "      <td>NaN</td>\n",
       "      <td>NYC</td>\n",
       "      <td>NY</td>\n",
       "      <td>10022</td>\n",
       "      <td>USA</td>\n",
       "      <td>NaN</td>\n",
       "      <td>Yu</td>\n",
       "      <td>Kwai</td>\n",
       "      <td>Small</td>\n",
       "    </tr>\n",
       "  </tbody>\n",
       "</table>\n",
       "</div>"
      ],
      "text/plain": [
       "   ORDERNUMBER  QUANTITYORDERED  PRICEEACH  ORDERLINENUMBER   SALES  \\\n",
       "0        10107               30       95.7                2  2871.0   \n",
       "\n",
       "        ORDERDATE   STATUS  QTR_ID  MONTH_ID  YEAR_ID  PRODUCTLINE  MSRP  \\\n",
       "0  2/24/2003 0:00  Shipped       1         2     2003  Motorcycles    95   \n",
       "\n",
       "  PRODUCTCODE       CUSTOMERNAME       PHONE             ADDRESSLINE1  \\\n",
       "0    S10_1678  Land of Toys Inc.  2125557818  897 Long Airport Avenue   \n",
       "\n",
       "  ADDRESSLINE2 CITY STATE POSTALCODE COUNTRY TERRITORY CONTACTLASTNAME  \\\n",
       "0          NaN  NYC    NY      10022     USA       NaN              Yu   \n",
       "\n",
       "  CONTACTFIRSTNAME DEALSIZE  \n",
       "0             Kwai    Small  "
      ]
     },
     "execution_count": 11,
     "metadata": {},
     "output_type": "execute_result"
    }
   ],
   "source": [
    "df.head(1)"
   ]
  },
  {
   "cell_type": "code",
   "execution_count": 12,
   "id": "dbdaa7e2-25f9-4894-91d7-3ec42cece17f",
   "metadata": {},
   "outputs": [
    {
     "data": {
      "text/html": [
       "<div>\n",
       "<style scoped>\n",
       "    .dataframe tbody tr th:only-of-type {\n",
       "        vertical-align: middle;\n",
       "    }\n",
       "\n",
       "    .dataframe tbody tr th {\n",
       "        vertical-align: top;\n",
       "    }\n",
       "\n",
       "    .dataframe thead th {\n",
       "        text-align: right;\n",
       "    }\n",
       "</style>\n",
       "<table border=\"1\" class=\"dataframe\">\n",
       "  <thead>\n",
       "    <tr style=\"text-align: right;\">\n",
       "      <th></th>\n",
       "      <th>ordernumber</th>\n",
       "      <th>quantityordered</th>\n",
       "      <th>priceeach</th>\n",
       "      <th>orderlinenumber</th>\n",
       "      <th>sales</th>\n",
       "      <th>orderdate</th>\n",
       "      <th>status</th>\n",
       "      <th>qtr_id</th>\n",
       "      <th>month_id</th>\n",
       "      <th>year_id</th>\n",
       "      <th>productline</th>\n",
       "      <th>msrp</th>\n",
       "      <th>productcode</th>\n",
       "      <th>customername</th>\n",
       "      <th>phone</th>\n",
       "      <th>addressline1</th>\n",
       "      <th>addressline2</th>\n",
       "      <th>city</th>\n",
       "      <th>state</th>\n",
       "      <th>postalcode</th>\n",
       "      <th>country</th>\n",
       "      <th>territory</th>\n",
       "      <th>contactlastname</th>\n",
       "      <th>contactfirstname</th>\n",
       "      <th>dealsize</th>\n",
       "    </tr>\n",
       "  </thead>\n",
       "  <tbody>\n",
       "    <tr>\n",
       "      <th>0</th>\n",
       "      <td>10107</td>\n",
       "      <td>30</td>\n",
       "      <td>95.7</td>\n",
       "      <td>2</td>\n",
       "      <td>2871.0</td>\n",
       "      <td>2/24/2003 0:00</td>\n",
       "      <td>Shipped</td>\n",
       "      <td>1</td>\n",
       "      <td>2</td>\n",
       "      <td>2003</td>\n",
       "      <td>Motorcycles</td>\n",
       "      <td>95</td>\n",
       "      <td>S10_1678</td>\n",
       "      <td>Land of Toys Inc.</td>\n",
       "      <td>2125557818</td>\n",
       "      <td>897 Long Airport Avenue</td>\n",
       "      <td>NaN</td>\n",
       "      <td>NYC</td>\n",
       "      <td>NY</td>\n",
       "      <td>10022</td>\n",
       "      <td>USA</td>\n",
       "      <td>NaN</td>\n",
       "      <td>Yu</td>\n",
       "      <td>Kwai</td>\n",
       "      <td>Small</td>\n",
       "    </tr>\n",
       "  </tbody>\n",
       "</table>\n",
       "</div>"
      ],
      "text/plain": [
       "   ordernumber  quantityordered  priceeach  orderlinenumber   sales  \\\n",
       "0        10107               30       95.7                2  2871.0   \n",
       "\n",
       "        orderdate   status  qtr_id  month_id  year_id  productline  msrp  \\\n",
       "0  2/24/2003 0:00  Shipped       1         2     2003  Motorcycles    95   \n",
       "\n",
       "  productcode       customername       phone             addressline1  \\\n",
       "0    S10_1678  Land of Toys Inc.  2125557818  897 Long Airport Avenue   \n",
       "\n",
       "  addressline2 city state postalcode country territory contactlastname  \\\n",
       "0          NaN  NYC    NY      10022     USA       NaN              Yu   \n",
       "\n",
       "  contactfirstname dealsize  \n",
       "0             Kwai    Small  "
      ]
     },
     "execution_count": 12,
     "metadata": {},
     "output_type": "execute_result"
    }
   ],
   "source": [
    "df.rename(columns= lambda x: x.lower(), inplace=True)\n",
    "df.head(1)"
   ]
  },
  {
   "cell_type": "code",
   "execution_count": 13,
   "id": "f56e87b1-5fd7-4ce9-9e5d-a81eff1e28f3",
   "metadata": {
    "tags": []
   },
   "outputs": [
    {
     "data": {
      "text/plain": [
       "ordernumber           int64\n",
       "quantityordered       int64\n",
       "priceeach           float64\n",
       "orderlinenumber       int64\n",
       "sales               float64\n",
       "orderdate            object\n",
       "status               object\n",
       "qtr_id                int64\n",
       "month_id              int64\n",
       "year_id               int64\n",
       "productline          object\n",
       "msrp                  int64\n",
       "productcode          object\n",
       "customername         object\n",
       "phone                object\n",
       "addressline1         object\n",
       "addressline2         object\n",
       "city                 object\n",
       "state                object\n",
       "postalcode           object\n",
       "country              object\n",
       "territory            object\n",
       "contactlastname      object\n",
       "contactfirstname     object\n",
       "dealsize             object\n",
       "dtype: object"
      ]
     },
     "execution_count": 13,
     "metadata": {},
     "output_type": "execute_result"
    }
   ],
   "source": [
    "df.dtypes"
   ]
  },
  {
   "cell_type": "markdown",
   "id": "c5622bb5-f741-4612-9a7b-c128b407edbe",
   "metadata": {},
   "source": [
    "> Upon checking the dtypes, we find that the 'orderdate' column has an 'object' data type. We need to change it to datetime so that we can guarantee consistency."
   ]
  },
  {
   "cell_type": "code",
   "execution_count": 14,
   "id": "5e25f1a8-92dc-4447-a1f5-e90cd93259e4",
   "metadata": {},
   "outputs": [
    {
     "data": {
      "text/html": [
       "<div>\n",
       "<style scoped>\n",
       "    .dataframe tbody tr th:only-of-type {\n",
       "        vertical-align: middle;\n",
       "    }\n",
       "\n",
       "    .dataframe tbody tr th {\n",
       "        vertical-align: top;\n",
       "    }\n",
       "\n",
       "    .dataframe thead th {\n",
       "        text-align: right;\n",
       "    }\n",
       "</style>\n",
       "<table border=\"1\" class=\"dataframe\">\n",
       "  <thead>\n",
       "    <tr style=\"text-align: right;\">\n",
       "      <th></th>\n",
       "      <th>ordernumber</th>\n",
       "      <th>quantityordered</th>\n",
       "      <th>priceeach</th>\n",
       "      <th>orderlinenumber</th>\n",
       "      <th>sales</th>\n",
       "      <th>orderdate</th>\n",
       "      <th>status</th>\n",
       "      <th>qtr_id</th>\n",
       "      <th>month_id</th>\n",
       "      <th>year_id</th>\n",
       "      <th>productline</th>\n",
       "      <th>msrp</th>\n",
       "      <th>productcode</th>\n",
       "      <th>customername</th>\n",
       "      <th>phone</th>\n",
       "      <th>addressline1</th>\n",
       "      <th>addressline2</th>\n",
       "      <th>city</th>\n",
       "      <th>state</th>\n",
       "      <th>postalcode</th>\n",
       "      <th>country</th>\n",
       "      <th>territory</th>\n",
       "      <th>contactlastname</th>\n",
       "      <th>contactfirstname</th>\n",
       "      <th>dealsize</th>\n",
       "    </tr>\n",
       "  </thead>\n",
       "  <tbody>\n",
       "    <tr>\n",
       "      <th>0</th>\n",
       "      <td>10107</td>\n",
       "      <td>30</td>\n",
       "      <td>95.70</td>\n",
       "      <td>2</td>\n",
       "      <td>2871.00</td>\n",
       "      <td>2003-02-24</td>\n",
       "      <td>Shipped</td>\n",
       "      <td>1</td>\n",
       "      <td>2</td>\n",
       "      <td>2003</td>\n",
       "      <td>Motorcycles</td>\n",
       "      <td>95</td>\n",
       "      <td>S10_1678</td>\n",
       "      <td>Land of Toys Inc.</td>\n",
       "      <td>2125557818</td>\n",
       "      <td>897 Long Airport Avenue</td>\n",
       "      <td>NaN</td>\n",
       "      <td>NYC</td>\n",
       "      <td>NY</td>\n",
       "      <td>10022</td>\n",
       "      <td>USA</td>\n",
       "      <td>NaN</td>\n",
       "      <td>Yu</td>\n",
       "      <td>Kwai</td>\n",
       "      <td>Small</td>\n",
       "    </tr>\n",
       "    <tr>\n",
       "      <th>1</th>\n",
       "      <td>10121</td>\n",
       "      <td>34</td>\n",
       "      <td>81.35</td>\n",
       "      <td>5</td>\n",
       "      <td>2765.90</td>\n",
       "      <td>2003-05-07</td>\n",
       "      <td>Shipped</td>\n",
       "      <td>2</td>\n",
       "      <td>5</td>\n",
       "      <td>2003</td>\n",
       "      <td>Motorcycles</td>\n",
       "      <td>95</td>\n",
       "      <td>S10_1678</td>\n",
       "      <td>Reims Collectables</td>\n",
       "      <td>26.47.1555</td>\n",
       "      <td>59 rue de l'Abbaye</td>\n",
       "      <td>NaN</td>\n",
       "      <td>Reims</td>\n",
       "      <td>NaN</td>\n",
       "      <td>51100</td>\n",
       "      <td>France</td>\n",
       "      <td>EMEA</td>\n",
       "      <td>Henriot</td>\n",
       "      <td>Paul</td>\n",
       "      <td>Small</td>\n",
       "    </tr>\n",
       "    <tr>\n",
       "      <th>2</th>\n",
       "      <td>10134</td>\n",
       "      <td>41</td>\n",
       "      <td>94.74</td>\n",
       "      <td>2</td>\n",
       "      <td>3884.34</td>\n",
       "      <td>2003-07-01</td>\n",
       "      <td>Shipped</td>\n",
       "      <td>3</td>\n",
       "      <td>7</td>\n",
       "      <td>2003</td>\n",
       "      <td>Motorcycles</td>\n",
       "      <td>95</td>\n",
       "      <td>S10_1678</td>\n",
       "      <td>Lyon Souveniers</td>\n",
       "      <td>+33 1 46 62 7555</td>\n",
       "      <td>27 rue du Colonel Pierre Avia</td>\n",
       "      <td>NaN</td>\n",
       "      <td>Paris</td>\n",
       "      <td>NaN</td>\n",
       "      <td>75508</td>\n",
       "      <td>France</td>\n",
       "      <td>EMEA</td>\n",
       "      <td>Da Cunha</td>\n",
       "      <td>Daniel</td>\n",
       "      <td>Medium</td>\n",
       "    </tr>\n",
       "    <tr>\n",
       "      <th>3</th>\n",
       "      <td>10145</td>\n",
       "      <td>45</td>\n",
       "      <td>83.26</td>\n",
       "      <td>6</td>\n",
       "      <td>3746.70</td>\n",
       "      <td>2003-08-25</td>\n",
       "      <td>Shipped</td>\n",
       "      <td>3</td>\n",
       "      <td>8</td>\n",
       "      <td>2003</td>\n",
       "      <td>Motorcycles</td>\n",
       "      <td>95</td>\n",
       "      <td>S10_1678</td>\n",
       "      <td>Toys4GrownUps.com</td>\n",
       "      <td>6265557265</td>\n",
       "      <td>78934 Hillside Dr.</td>\n",
       "      <td>NaN</td>\n",
       "      <td>Pasadena</td>\n",
       "      <td>CA</td>\n",
       "      <td>90003</td>\n",
       "      <td>USA</td>\n",
       "      <td>NaN</td>\n",
       "      <td>Young</td>\n",
       "      <td>Julie</td>\n",
       "      <td>Medium</td>\n",
       "    </tr>\n",
       "    <tr>\n",
       "      <th>4</th>\n",
       "      <td>10159</td>\n",
       "      <td>49</td>\n",
       "      <td>100.00</td>\n",
       "      <td>14</td>\n",
       "      <td>5205.27</td>\n",
       "      <td>2003-10-10</td>\n",
       "      <td>Shipped</td>\n",
       "      <td>4</td>\n",
       "      <td>10</td>\n",
       "      <td>2003</td>\n",
       "      <td>Motorcycles</td>\n",
       "      <td>95</td>\n",
       "      <td>S10_1678</td>\n",
       "      <td>Corporate Gift Ideas Co.</td>\n",
       "      <td>6505551386</td>\n",
       "      <td>7734 Strong St.</td>\n",
       "      <td>NaN</td>\n",
       "      <td>San Francisco</td>\n",
       "      <td>CA</td>\n",
       "      <td>NaN</td>\n",
       "      <td>USA</td>\n",
       "      <td>NaN</td>\n",
       "      <td>Brown</td>\n",
       "      <td>Julie</td>\n",
       "      <td>Medium</td>\n",
       "    </tr>\n",
       "  </tbody>\n",
       "</table>\n",
       "</div>"
      ],
      "text/plain": [
       "   ordernumber  quantityordered  priceeach  orderlinenumber    sales  \\\n",
       "0        10107               30      95.70                2  2871.00   \n",
       "1        10121               34      81.35                5  2765.90   \n",
       "2        10134               41      94.74                2  3884.34   \n",
       "3        10145               45      83.26                6  3746.70   \n",
       "4        10159               49     100.00               14  5205.27   \n",
       "\n",
       "   orderdate   status  qtr_id  month_id  year_id  productline  msrp  \\\n",
       "0 2003-02-24  Shipped       1         2     2003  Motorcycles    95   \n",
       "1 2003-05-07  Shipped       2         5     2003  Motorcycles    95   \n",
       "2 2003-07-01  Shipped       3         7     2003  Motorcycles    95   \n",
       "3 2003-08-25  Shipped       3         8     2003  Motorcycles    95   \n",
       "4 2003-10-10  Shipped       4        10     2003  Motorcycles    95   \n",
       "\n",
       "  productcode              customername             phone  \\\n",
       "0    S10_1678         Land of Toys Inc.        2125557818   \n",
       "1    S10_1678        Reims Collectables        26.47.1555   \n",
       "2    S10_1678           Lyon Souveniers  +33 1 46 62 7555   \n",
       "3    S10_1678         Toys4GrownUps.com        6265557265   \n",
       "4    S10_1678  Corporate Gift Ideas Co.        6505551386   \n",
       "\n",
       "                    addressline1 addressline2           city state postalcode  \\\n",
       "0        897 Long Airport Avenue          NaN            NYC    NY      10022   \n",
       "1             59 rue de l'Abbaye          NaN          Reims   NaN      51100   \n",
       "2  27 rue du Colonel Pierre Avia          NaN          Paris   NaN      75508   \n",
       "3             78934 Hillside Dr.          NaN       Pasadena    CA      90003   \n",
       "4                7734 Strong St.          NaN  San Francisco    CA        NaN   \n",
       "\n",
       "  country territory contactlastname contactfirstname dealsize  \n",
       "0     USA       NaN              Yu             Kwai    Small  \n",
       "1  France      EMEA         Henriot             Paul    Small  \n",
       "2  France      EMEA        Da Cunha           Daniel   Medium  \n",
       "3     USA       NaN           Young            Julie   Medium  \n",
       "4     USA       NaN           Brown            Julie   Medium  "
      ]
     },
     "execution_count": 14,
     "metadata": {},
     "output_type": "execute_result"
    }
   ],
   "source": [
    "df['orderdate'] = pd.to_datetime(df['orderdate'])\n",
    "df.head(5)"
   ]
  },
  {
   "cell_type": "markdown",
   "id": "4e7c3b46-16c5-4ec8-8267-21149038b3b6",
   "metadata": {},
   "source": [
    "It seems like there are no other visible issues regarding the dataset, besides missing or NaN values. By looking at the function called earlier <a href='#isnull_sum'>'df.isnull().sum()'</a>, we can see that the NaN values correspond with columns that can be ignored, therefore those missing values can have signifance, if not ignored, on the accuracy and integrity of the data. "
   ]
  },
  {
   "cell_type": "markdown",
   "id": "45aff882-c553-419e-9a72-8f99d28b6f8c",
   "metadata": {},
   "source": [
    "<a id='data_anal'></a>\n",
    "## Exploratory Data Analysis"
   ]
  },
  {
   "cell_type": "markdown",
   "id": "9e4697da-8530-42b9-b320-bbf71eb1ab86",
   "metadata": {},
   "source": [
    "> In this section, we will manipulate the data in order to answer questions."
   ]
  },
  {
   "cell_type": "markdown",
   "id": "b8fe35c7-7652-43fb-8e5d-c58096ec45ef",
   "metadata": {},
   "source": [
    "<a id='here'></a>\n",
    "#### Order Status Issue:"
   ]
  },
  {
   "cell_type": "code",
   "execution_count": 15,
   "id": "f53af753-9c8d-478a-9d40-0e629efb14b7",
   "metadata": {},
   "outputs": [
    {
     "data": {
      "text/plain": [
       "Shipped       2617\n",
       "Cancelled       60\n",
       "Resolved        47\n",
       "On Hold         44\n",
       "In Process      41\n",
       "Disputed        14\n",
       "Name: status, dtype: int64"
      ]
     },
     "execution_count": 15,
     "metadata": {},
     "output_type": "execute_result"
    }
   ],
   "source": [
    "df['status'].value_counts()"
   ]
  },
  {
   "cell_type": "markdown",
   "id": "c1b20b49-1b83-4970-950b-2dc0dd0b4a70",
   "metadata": {},
   "source": [
    "> When examining the order status, we can find that there are several values for 'status'. We need to remove all values that aren't labelled 'Shipped' or 'Resolved' from the dataframe so that they don't reflect inaccurate sales values. As any value other than 'Shipped' or 'Resolved' indicates that the order has not been delivered, which means we can't account for its sales value."
   ]
  },
  {
   "cell_type": "markdown",
   "id": "6d75ea2b-c065-45b0-a16d-7af18f023e77",
   "metadata": {},
   "source": [
    "We will update the dataframe to only show values with status **'Shipped'** & **'Resolved'**."
   ]
  },
  {
   "cell_type": "code",
   "execution_count": 16,
   "id": "8831a8d8-721e-4993-ac54-fc0f3414447e",
   "metadata": {},
   "outputs": [
    {
     "data": {
      "text/html": [
       "<div>\n",
       "<style scoped>\n",
       "    .dataframe tbody tr th:only-of-type {\n",
       "        vertical-align: middle;\n",
       "    }\n",
       "\n",
       "    .dataframe tbody tr th {\n",
       "        vertical-align: top;\n",
       "    }\n",
       "\n",
       "    .dataframe thead th {\n",
       "        text-align: right;\n",
       "    }\n",
       "</style>\n",
       "<table border=\"1\" class=\"dataframe\">\n",
       "  <thead>\n",
       "    <tr style=\"text-align: right;\">\n",
       "      <th></th>\n",
       "      <th>ordernumber</th>\n",
       "      <th>quantityordered</th>\n",
       "      <th>priceeach</th>\n",
       "      <th>orderlinenumber</th>\n",
       "      <th>sales</th>\n",
       "      <th>orderdate</th>\n",
       "      <th>status</th>\n",
       "      <th>qtr_id</th>\n",
       "      <th>month_id</th>\n",
       "      <th>year_id</th>\n",
       "      <th>productline</th>\n",
       "      <th>msrp</th>\n",
       "      <th>productcode</th>\n",
       "      <th>customername</th>\n",
       "      <th>phone</th>\n",
       "      <th>addressline1</th>\n",
       "      <th>addressline2</th>\n",
       "      <th>city</th>\n",
       "      <th>state</th>\n",
       "      <th>postalcode</th>\n",
       "      <th>country</th>\n",
       "      <th>territory</th>\n",
       "      <th>contactlastname</th>\n",
       "      <th>contactfirstname</th>\n",
       "      <th>dealsize</th>\n",
       "    </tr>\n",
       "  </thead>\n",
       "  <tbody>\n",
       "    <tr>\n",
       "      <th>0</th>\n",
       "      <td>10107</td>\n",
       "      <td>30</td>\n",
       "      <td>95.70</td>\n",
       "      <td>2</td>\n",
       "      <td>2871.00</td>\n",
       "      <td>2003-02-24</td>\n",
       "      <td>Shipped</td>\n",
       "      <td>1</td>\n",
       "      <td>2</td>\n",
       "      <td>2003</td>\n",
       "      <td>Motorcycles</td>\n",
       "      <td>95</td>\n",
       "      <td>S10_1678</td>\n",
       "      <td>Land of Toys Inc.</td>\n",
       "      <td>2125557818</td>\n",
       "      <td>897 Long Airport Avenue</td>\n",
       "      <td>NaN</td>\n",
       "      <td>NYC</td>\n",
       "      <td>NY</td>\n",
       "      <td>10022</td>\n",
       "      <td>USA</td>\n",
       "      <td>NaN</td>\n",
       "      <td>Yu</td>\n",
       "      <td>Kwai</td>\n",
       "      <td>Small</td>\n",
       "    </tr>\n",
       "    <tr>\n",
       "      <th>1</th>\n",
       "      <td>10121</td>\n",
       "      <td>34</td>\n",
       "      <td>81.35</td>\n",
       "      <td>5</td>\n",
       "      <td>2765.90</td>\n",
       "      <td>2003-05-07</td>\n",
       "      <td>Shipped</td>\n",
       "      <td>2</td>\n",
       "      <td>5</td>\n",
       "      <td>2003</td>\n",
       "      <td>Motorcycles</td>\n",
       "      <td>95</td>\n",
       "      <td>S10_1678</td>\n",
       "      <td>Reims Collectables</td>\n",
       "      <td>26.47.1555</td>\n",
       "      <td>59 rue de l'Abbaye</td>\n",
       "      <td>NaN</td>\n",
       "      <td>Reims</td>\n",
       "      <td>NaN</td>\n",
       "      <td>51100</td>\n",
       "      <td>France</td>\n",
       "      <td>EMEA</td>\n",
       "      <td>Henriot</td>\n",
       "      <td>Paul</td>\n",
       "      <td>Small</td>\n",
       "    </tr>\n",
       "    <tr>\n",
       "      <th>2</th>\n",
       "      <td>10134</td>\n",
       "      <td>41</td>\n",
       "      <td>94.74</td>\n",
       "      <td>2</td>\n",
       "      <td>3884.34</td>\n",
       "      <td>2003-07-01</td>\n",
       "      <td>Shipped</td>\n",
       "      <td>3</td>\n",
       "      <td>7</td>\n",
       "      <td>2003</td>\n",
       "      <td>Motorcycles</td>\n",
       "      <td>95</td>\n",
       "      <td>S10_1678</td>\n",
       "      <td>Lyon Souveniers</td>\n",
       "      <td>+33 1 46 62 7555</td>\n",
       "      <td>27 rue du Colonel Pierre Avia</td>\n",
       "      <td>NaN</td>\n",
       "      <td>Paris</td>\n",
       "      <td>NaN</td>\n",
       "      <td>75508</td>\n",
       "      <td>France</td>\n",
       "      <td>EMEA</td>\n",
       "      <td>Da Cunha</td>\n",
       "      <td>Daniel</td>\n",
       "      <td>Medium</td>\n",
       "    </tr>\n",
       "    <tr>\n",
       "      <th>3</th>\n",
       "      <td>10145</td>\n",
       "      <td>45</td>\n",
       "      <td>83.26</td>\n",
       "      <td>6</td>\n",
       "      <td>3746.70</td>\n",
       "      <td>2003-08-25</td>\n",
       "      <td>Shipped</td>\n",
       "      <td>3</td>\n",
       "      <td>8</td>\n",
       "      <td>2003</td>\n",
       "      <td>Motorcycles</td>\n",
       "      <td>95</td>\n",
       "      <td>S10_1678</td>\n",
       "      <td>Toys4GrownUps.com</td>\n",
       "      <td>6265557265</td>\n",
       "      <td>78934 Hillside Dr.</td>\n",
       "      <td>NaN</td>\n",
       "      <td>Pasadena</td>\n",
       "      <td>CA</td>\n",
       "      <td>90003</td>\n",
       "      <td>USA</td>\n",
       "      <td>NaN</td>\n",
       "      <td>Young</td>\n",
       "      <td>Julie</td>\n",
       "      <td>Medium</td>\n",
       "    </tr>\n",
       "    <tr>\n",
       "      <th>4</th>\n",
       "      <td>10159</td>\n",
       "      <td>49</td>\n",
       "      <td>100.00</td>\n",
       "      <td>14</td>\n",
       "      <td>5205.27</td>\n",
       "      <td>2003-10-10</td>\n",
       "      <td>Shipped</td>\n",
       "      <td>4</td>\n",
       "      <td>10</td>\n",
       "      <td>2003</td>\n",
       "      <td>Motorcycles</td>\n",
       "      <td>95</td>\n",
       "      <td>S10_1678</td>\n",
       "      <td>Corporate Gift Ideas Co.</td>\n",
       "      <td>6505551386</td>\n",
       "      <td>7734 Strong St.</td>\n",
       "      <td>NaN</td>\n",
       "      <td>San Francisco</td>\n",
       "      <td>CA</td>\n",
       "      <td>NaN</td>\n",
       "      <td>USA</td>\n",
       "      <td>NaN</td>\n",
       "      <td>Brown</td>\n",
       "      <td>Julie</td>\n",
       "      <td>Medium</td>\n",
       "    </tr>\n",
       "    <tr>\n",
       "      <th>...</th>\n",
       "      <td>...</td>\n",
       "      <td>...</td>\n",
       "      <td>...</td>\n",
       "      <td>...</td>\n",
       "      <td>...</td>\n",
       "      <td>...</td>\n",
       "      <td>...</td>\n",
       "      <td>...</td>\n",
       "      <td>...</td>\n",
       "      <td>...</td>\n",
       "      <td>...</td>\n",
       "      <td>...</td>\n",
       "      <td>...</td>\n",
       "      <td>...</td>\n",
       "      <td>...</td>\n",
       "      <td>...</td>\n",
       "      <td>...</td>\n",
       "      <td>...</td>\n",
       "      <td>...</td>\n",
       "      <td>...</td>\n",
       "      <td>...</td>\n",
       "      <td>...</td>\n",
       "      <td>...</td>\n",
       "      <td>...</td>\n",
       "      <td>...</td>\n",
       "    </tr>\n",
       "    <tr>\n",
       "      <th>2659</th>\n",
       "      <td>10337</td>\n",
       "      <td>42</td>\n",
       "      <td>97.16</td>\n",
       "      <td>5</td>\n",
       "      <td>4080.72</td>\n",
       "      <td>2004-11-21</td>\n",
       "      <td>Shipped</td>\n",
       "      <td>4</td>\n",
       "      <td>11</td>\n",
       "      <td>2004</td>\n",
       "      <td>Ships</td>\n",
       "      <td>54</td>\n",
       "      <td>S72_3212</td>\n",
       "      <td>Classic Legends Inc.</td>\n",
       "      <td>2125558493</td>\n",
       "      <td>5905 Pompton St.</td>\n",
       "      <td>Suite 750</td>\n",
       "      <td>NYC</td>\n",
       "      <td>NY</td>\n",
       "      <td>10022</td>\n",
       "      <td>USA</td>\n",
       "      <td>NaN</td>\n",
       "      <td>Hernandez</td>\n",
       "      <td>Maria</td>\n",
       "      <td>Medium</td>\n",
       "    </tr>\n",
       "    <tr>\n",
       "      <th>2660</th>\n",
       "      <td>10350</td>\n",
       "      <td>20</td>\n",
       "      <td>100.00</td>\n",
       "      <td>15</td>\n",
       "      <td>2244.40</td>\n",
       "      <td>2004-12-02</td>\n",
       "      <td>Shipped</td>\n",
       "      <td>4</td>\n",
       "      <td>12</td>\n",
       "      <td>2004</td>\n",
       "      <td>Ships</td>\n",
       "      <td>54</td>\n",
       "      <td>S72_3212</td>\n",
       "      <td>Euro Shopping Channel</td>\n",
       "      <td>(91) 555 94 44</td>\n",
       "      <td>C/ Moralzarzal, 86</td>\n",
       "      <td>NaN</td>\n",
       "      <td>Madrid</td>\n",
       "      <td>NaN</td>\n",
       "      <td>28034</td>\n",
       "      <td>Spain</td>\n",
       "      <td>EMEA</td>\n",
       "      <td>Freyre</td>\n",
       "      <td>Diego</td>\n",
       "      <td>Small</td>\n",
       "    </tr>\n",
       "    <tr>\n",
       "      <th>2661</th>\n",
       "      <td>10373</td>\n",
       "      <td>29</td>\n",
       "      <td>100.00</td>\n",
       "      <td>1</td>\n",
       "      <td>3978.51</td>\n",
       "      <td>2005-01-31</td>\n",
       "      <td>Shipped</td>\n",
       "      <td>1</td>\n",
       "      <td>1</td>\n",
       "      <td>2005</td>\n",
       "      <td>Ships</td>\n",
       "      <td>54</td>\n",
       "      <td>S72_3212</td>\n",
       "      <td>Oulu Toy Supplies, Inc.</td>\n",
       "      <td>981-443655</td>\n",
       "      <td>Torikatu 38</td>\n",
       "      <td>NaN</td>\n",
       "      <td>Oulu</td>\n",
       "      <td>NaN</td>\n",
       "      <td>90110</td>\n",
       "      <td>Finland</td>\n",
       "      <td>EMEA</td>\n",
       "      <td>Koskitalo</td>\n",
       "      <td>Pirkko</td>\n",
       "      <td>Medium</td>\n",
       "    </tr>\n",
       "    <tr>\n",
       "      <th>2662</th>\n",
       "      <td>10386</td>\n",
       "      <td>43</td>\n",
       "      <td>100.00</td>\n",
       "      <td>4</td>\n",
       "      <td>5417.57</td>\n",
       "      <td>2005-03-01</td>\n",
       "      <td>Resolved</td>\n",
       "      <td>1</td>\n",
       "      <td>3</td>\n",
       "      <td>2005</td>\n",
       "      <td>Ships</td>\n",
       "      <td>54</td>\n",
       "      <td>S72_3212</td>\n",
       "      <td>Euro Shopping Channel</td>\n",
       "      <td>(91) 555 94 44</td>\n",
       "      <td>C/ Moralzarzal, 86</td>\n",
       "      <td>NaN</td>\n",
       "      <td>Madrid</td>\n",
       "      <td>NaN</td>\n",
       "      <td>28034</td>\n",
       "      <td>Spain</td>\n",
       "      <td>EMEA</td>\n",
       "      <td>Freyre</td>\n",
       "      <td>Diego</td>\n",
       "      <td>Medium</td>\n",
       "    </tr>\n",
       "    <tr>\n",
       "      <th>2663</th>\n",
       "      <td>10397</td>\n",
       "      <td>34</td>\n",
       "      <td>62.24</td>\n",
       "      <td>1</td>\n",
       "      <td>2116.16</td>\n",
       "      <td>2005-03-28</td>\n",
       "      <td>Shipped</td>\n",
       "      <td>1</td>\n",
       "      <td>3</td>\n",
       "      <td>2005</td>\n",
       "      <td>Ships</td>\n",
       "      <td>54</td>\n",
       "      <td>S72_3212</td>\n",
       "      <td>Alpha Cognac</td>\n",
       "      <td>61.77.6555</td>\n",
       "      <td>1 rue Alsace-Lorraine</td>\n",
       "      <td>NaN</td>\n",
       "      <td>Toulouse</td>\n",
       "      <td>NaN</td>\n",
       "      <td>31000</td>\n",
       "      <td>France</td>\n",
       "      <td>EMEA</td>\n",
       "      <td>Roulet</td>\n",
       "      <td>Annette</td>\n",
       "      <td>Small</td>\n",
       "    </tr>\n",
       "  </tbody>\n",
       "</table>\n",
       "<p>2664 rows × 25 columns</p>\n",
       "</div>"
      ],
      "text/plain": [
       "      ordernumber  quantityordered  priceeach  orderlinenumber    sales  \\\n",
       "0           10107               30      95.70                2  2871.00   \n",
       "1           10121               34      81.35                5  2765.90   \n",
       "2           10134               41      94.74                2  3884.34   \n",
       "3           10145               45      83.26                6  3746.70   \n",
       "4           10159               49     100.00               14  5205.27   \n",
       "...           ...              ...        ...              ...      ...   \n",
       "2659        10337               42      97.16                5  4080.72   \n",
       "2660        10350               20     100.00               15  2244.40   \n",
       "2661        10373               29     100.00                1  3978.51   \n",
       "2662        10386               43     100.00                4  5417.57   \n",
       "2663        10397               34      62.24                1  2116.16   \n",
       "\n",
       "      orderdate    status  qtr_id  month_id  year_id  productline  msrp  \\\n",
       "0    2003-02-24   Shipped       1         2     2003  Motorcycles    95   \n",
       "1    2003-05-07   Shipped       2         5     2003  Motorcycles    95   \n",
       "2    2003-07-01   Shipped       3         7     2003  Motorcycles    95   \n",
       "3    2003-08-25   Shipped       3         8     2003  Motorcycles    95   \n",
       "4    2003-10-10   Shipped       4        10     2003  Motorcycles    95   \n",
       "...         ...       ...     ...       ...      ...          ...   ...   \n",
       "2659 2004-11-21   Shipped       4        11     2004        Ships    54   \n",
       "2660 2004-12-02   Shipped       4        12     2004        Ships    54   \n",
       "2661 2005-01-31   Shipped       1         1     2005        Ships    54   \n",
       "2662 2005-03-01  Resolved       1         3     2005        Ships    54   \n",
       "2663 2005-03-28   Shipped       1         3     2005        Ships    54   \n",
       "\n",
       "     productcode              customername             phone  \\\n",
       "0       S10_1678         Land of Toys Inc.        2125557818   \n",
       "1       S10_1678        Reims Collectables        26.47.1555   \n",
       "2       S10_1678           Lyon Souveniers  +33 1 46 62 7555   \n",
       "3       S10_1678         Toys4GrownUps.com        6265557265   \n",
       "4       S10_1678  Corporate Gift Ideas Co.        6505551386   \n",
       "...          ...                       ...               ...   \n",
       "2659    S72_3212      Classic Legends Inc.        2125558493   \n",
       "2660    S72_3212     Euro Shopping Channel    (91) 555 94 44   \n",
       "2661    S72_3212   Oulu Toy Supplies, Inc.        981-443655   \n",
       "2662    S72_3212     Euro Shopping Channel    (91) 555 94 44   \n",
       "2663    S72_3212              Alpha Cognac        61.77.6555   \n",
       "\n",
       "                       addressline1 addressline2           city state  \\\n",
       "0           897 Long Airport Avenue          NaN            NYC    NY   \n",
       "1                59 rue de l'Abbaye          NaN          Reims   NaN   \n",
       "2     27 rue du Colonel Pierre Avia          NaN          Paris   NaN   \n",
       "3                78934 Hillside Dr.          NaN       Pasadena    CA   \n",
       "4                   7734 Strong St.          NaN  San Francisco    CA   \n",
       "...                             ...          ...            ...   ...   \n",
       "2659               5905 Pompton St.    Suite 750            NYC    NY   \n",
       "2660             C/ Moralzarzal, 86          NaN         Madrid   NaN   \n",
       "2661                    Torikatu 38          NaN           Oulu   NaN   \n",
       "2662             C/ Moralzarzal, 86          NaN         Madrid   NaN   \n",
       "2663          1 rue Alsace-Lorraine          NaN       Toulouse   NaN   \n",
       "\n",
       "     postalcode  country territory contactlastname contactfirstname dealsize  \n",
       "0         10022      USA       NaN              Yu             Kwai    Small  \n",
       "1         51100   France      EMEA         Henriot             Paul    Small  \n",
       "2         75508   France      EMEA        Da Cunha           Daniel   Medium  \n",
       "3         90003      USA       NaN           Young            Julie   Medium  \n",
       "4           NaN      USA       NaN           Brown            Julie   Medium  \n",
       "...         ...      ...       ...             ...              ...      ...  \n",
       "2659      10022      USA       NaN       Hernandez            Maria   Medium  \n",
       "2660      28034    Spain      EMEA          Freyre            Diego    Small  \n",
       "2661      90110  Finland      EMEA       Koskitalo           Pirkko   Medium  \n",
       "2662      28034    Spain      EMEA          Freyre            Diego   Medium  \n",
       "2663      31000   France      EMEA          Roulet          Annette    Small  \n",
       "\n",
       "[2664 rows x 25 columns]"
      ]
     },
     "execution_count": 16,
     "metadata": {},
     "output_type": "execute_result"
    }
   ],
   "source": [
    "df = df[(df['status'] == 'Shipped') | (df['status'] == 'Resolved')]\n",
    "df.reset_index(drop=True, inplace=True)\n",
    "df"
   ]
  },
  {
   "cell_type": "markdown",
   "id": "f4651ba8-2edf-47dc-84dd-acca0a9ef4f6",
   "metadata": {},
   "source": [
    "> As you can see, the new dataframe contains 2664 rows which corresponds to the sum of 'Shipped' & 'Resolved' values that were observed when we ran \"df['status'].value_counts()\" <a href='#here'>here</a>."
   ]
  },
  {
   "cell_type": "markdown",
   "id": "adf3d624-a889-4846-af24-719924cb9c78",
   "metadata": {},
   "source": [
    "<br>\n",
    "\n",
    "### In this next section, we will answer the following questions:\n",
    "<ol>\n",
    "    <li>What is the total number of sales by country ?</li>\n",
    "    <li>Which month had the most sales ?</li>\n",
    "    <li>What are the average monthly sales ?</li>\n",
    "    <li>Which year had the most sales ?</li>\n",
    "    <li>Which products sold the most ?</li>\n",
    "    <li>When were the best and worst selling periods ?</li>\n",
    "</ol>\n",
    "<br>\n",
    "<br>"
   ]
  },
  {
   "cell_type": "markdown",
   "id": "6d2e0b55-d69c-444d-8de2-81cab645fa14",
   "metadata": {},
   "source": [
    "#### 1. What is the total number of sales by country?"
   ]
  },
  {
   "cell_type": "code",
   "execution_count": 17,
   "id": "8db2fa07-2481-4ce8-85d8-66b59567841d",
   "metadata": {
    "tags": []
   },
   "outputs": [],
   "source": [
    "sales_by_country = df['sales'].groupby(df['country']).sum()"
   ]
  },
  {
   "cell_type": "code",
   "execution_count": 18,
   "id": "a17d2fa9-5db0-4530-afc2-ae7ff2d8e641",
   "metadata": {},
   "outputs": [
    {
     "data": {
      "text/plain": [
       "country\n",
       "USA       3416477.64\n",
       "Spain     1098721.03\n",
       "France    1067131.83\n",
       "Name: sales, dtype: float64"
      ]
     },
     "execution_count": 18,
     "metadata": {},
     "output_type": "execute_result"
    }
   ],
   "source": [
    "sales_by_country.nlargest(3)"
   ]
  },
  {
   "cell_type": "code",
   "execution_count": 19,
   "id": "31eff11b-eb38-4c27-892c-bda333651fd1",
   "metadata": {},
   "outputs": [
    {
     "data": {
      "text/plain": [
       "country\n",
       "Ireland         57756.43\n",
       "Philippines     94015.73\n",
       "Belgium        100000.67\n",
       "Name: sales, dtype: float64"
      ]
     },
     "execution_count": 19,
     "metadata": {},
     "output_type": "execute_result"
    }
   ],
   "source": [
    "sales_by_country.nsmallest(3)"
   ]
  },
  {
   "cell_type": "code",
   "execution_count": 20,
   "id": "97c5097f-d641-48d5-ab7f-9cedeee9d989",
   "metadata": {},
   "outputs": [
    {
     "data": {
      "image/png": "[encoded data removed]",
      "text/plain": [
       "<Figure size 864x576 with 1 Axes>"
      ]
     },
     "metadata": {
      "needs_background": "light"
     },
     "output_type": "display_data"
    }
   ],
   "source": [
    "countries = [x for x, df in df.groupby('country')]\n",
    "\n",
    "plt.subplots(figsize=(12, 8))\n",
    "plt.ticklabel_format(style='plain')\n",
    "plt.bar(countries, sales_by_country)\n",
    "plt.xticks(countries, fontsize=11, rotation=90)\n",
    "plt.xlabel('Countries', fontsize=18)\n",
    "plt.ylabel('Sales in ($)', fontsize=16)\n",
    "plt.grid()\n",
    "plt.show()"
   ]
  },
  {
   "cell_type": "markdown",
   "id": "ecc8d4ee-4da4-4ded-af96-57503b2d7f9e",
   "metadata": {},
   "source": [
    "> Based on the graph above; USA has the highest sales, followed by Spain, France, and Australia. Lowest sales belong to Ireland, followed by Phillipines and Belgium."
   ]
  },
  {
   "cell_type": "markdown",
   "id": "899dc0c5-b8ad-429a-8452-dcf45fc43c4d",
   "metadata": {
    "tags": []
   },
   "source": [
    "<br>\n",
    "\n",
    "#### 2. Which month had the most sales?"
   ]
  },
  {
   "cell_type": "code",
   "execution_count": 21,
   "id": "1a09014b-cd33-40c6-9c55-e609918e6d49",
   "metadata": {},
   "outputs": [
    {
     "data": {
      "text/plain": [
       "['April',\n",
       " 'August',\n",
       " 'December',\n",
       " 'February',\n",
       " 'January',\n",
       " 'July',\n",
       " 'June',\n",
       " 'March',\n",
       " 'May',\n",
       " 'November',\n",
       " 'October',\n",
       " 'September']"
      ]
     },
     "execution_count": 21,
     "metadata": {},
     "output_type": "execute_result"
    }
   ],
   "source": [
    "months = [x for x, df in df.groupby(df['orderdate'].dt.month_name())]\n",
    "months"
   ]
  },
  {
   "cell_type": "code",
   "execution_count": 22,
   "id": "48f665f2-84f6-4c7b-a8ad-659c94f4c314",
   "metadata": {},
   "outputs": [
    {
     "data": {
      "text/html": [
       "<div>\n",
       "<style scoped>\n",
       "    .dataframe tbody tr th:only-of-type {\n",
       "        vertical-align: middle;\n",
       "    }\n",
       "\n",
       "    .dataframe tbody tr th {\n",
       "        vertical-align: top;\n",
       "    }\n",
       "\n",
       "    .dataframe thead th {\n",
       "        text-align: right;\n",
       "    }\n",
       "</style>\n",
       "<table border=\"1\" class=\"dataframe\">\n",
       "  <thead>\n",
       "    <tr style=\"text-align: right;\">\n",
       "      <th></th>\n",
       "      <th>sales</th>\n",
       "      <th>quantityordered</th>\n",
       "    </tr>\n",
       "    <tr>\n",
       "      <th>orderdate</th>\n",
       "      <th></th>\n",
       "      <th></th>\n",
       "    </tr>\n",
       "  </thead>\n",
       "  <tbody>\n",
       "    <tr>\n",
       "      <th>April</th>\n",
       "      <td>538976.00</td>\n",
       "      <td>5374</td>\n",
       "    </tr>\n",
       "    <tr>\n",
       "      <th>August</th>\n",
       "      <td>659310.57</td>\n",
       "      <td>6538</td>\n",
       "    </tr>\n",
       "    <tr>\n",
       "      <th>December</th>\n",
       "      <td>634679.12</td>\n",
       "      <td>6293</td>\n",
       "    </tr>\n",
       "    <tr>\n",
       "      <th>February</th>\n",
       "      <td>810441.90</td>\n",
       "      <td>7903</td>\n",
       "    </tr>\n",
       "    <tr>\n",
       "      <th>January</th>\n",
       "      <td>785874.44</td>\n",
       "      <td>7997</td>\n",
       "    </tr>\n",
       "    <tr>\n",
       "      <th>July</th>\n",
       "      <td>514875.97</td>\n",
       "      <td>4899</td>\n",
       "    </tr>\n",
       "    <tr>\n",
       "      <th>June</th>\n",
       "      <td>354337.88</td>\n",
       "      <td>3586</td>\n",
       "    </tr>\n",
       "    <tr>\n",
       "      <th>March</th>\n",
       "      <td>754501.39</td>\n",
       "      <td>7585</td>\n",
       "    </tr>\n",
       "    <tr>\n",
       "      <th>May</th>\n",
       "      <td>639368.06</td>\n",
       "      <td>6119</td>\n",
       "    </tr>\n",
       "    <tr>\n",
       "      <th>November</th>\n",
       "      <td>2092625.46</td>\n",
       "      <td>20640</td>\n",
       "    </tr>\n",
       "    <tr>\n",
       "      <th>October</th>\n",
       "      <td>1072504.30</td>\n",
       "      <td>10448</td>\n",
       "    </tr>\n",
       "    <tr>\n",
       "      <th>September</th>\n",
       "      <td>584724.27</td>\n",
       "      <td>5681</td>\n",
       "    </tr>\n",
       "  </tbody>\n",
       "</table>\n",
       "</div>"
      ],
      "text/plain": [
       "                sales  quantityordered\n",
       "orderdate                             \n",
       "April       538976.00             5374\n",
       "August      659310.57             6538\n",
       "December    634679.12             6293\n",
       "February    810441.90             7903\n",
       "January     785874.44             7997\n",
       "July        514875.97             4899\n",
       "June        354337.88             3586\n",
       "March       754501.39             7585\n",
       "May         639368.06             6119\n",
       "November   2092625.46            20640\n",
       "October    1072504.30            10448\n",
       "September   584724.27             5681"
      ]
     },
     "execution_count": 22,
     "metadata": {},
     "output_type": "execute_result"
    }
   ],
   "source": [
    "monthly_sales_df = df[['sales', 'quantityordered']].groupby(df['orderdate'].dt.month_name()).sum()\n",
    "monthly_sales_df"
   ]
  },
  {
   "cell_type": "code",
   "execution_count": 23,
   "id": "7c2d1b4a-f135-43ee-8626-0c578633963f",
   "metadata": {},
   "outputs": [],
   "source": [
    "monthly_sales = df['sales'].groupby(df['orderdate'].dt.month_name()).sum()"
   ]
  },
  {
   "cell_type": "code",
   "execution_count": 24,
   "id": "6b75ea4f-2836-44ca-9ba0-b89a51b93f7a",
   "metadata": {},
   "outputs": [
    {
     "data": {
      "image/png": "[encoded data removed]",
      "text/plain": [
       "<Figure size 864x576 with 1 Axes>"
      ]
     },
     "metadata": {
      "needs_background": "light"
     },
     "output_type": "display_data"
    }
   ],
   "source": [
    "plt.subplots(figsize=(12, 8))\n",
    "plt.ticklabel_format(style='plain')\n",
    "plt.bar(months, monthly_sales)\n",
    "plt.xticks(months, fontsize=11, rotation=90)\n",
    "plt.xlabel('Months', fontsize=18)\n",
    "plt.ylabel('Monthly Sales in ($)', fontsize=16)\n",
    "plt.grid()\n",
    "plt.show()"
   ]
  },
  {
   "cell_type": "markdown",
   "id": "4cca61ef-a981-45de-918f-f09500849093",
   "metadata": {},
   "source": [
    "<br>\n",
    "\n",
    "#### 3. What are the average monthly sales?"
   ]
  },
  {
   "cell_type": "code",
   "execution_count": 25,
   "id": "820d8fb9-a055-4adc-b4cd-aa082d3f4cbf",
   "metadata": {},
   "outputs": [
    {
     "data": {
      "text/html": [
       "<div>\n",
       "<style scoped>\n",
       "    .dataframe tbody tr th:only-of-type {\n",
       "        vertical-align: middle;\n",
       "    }\n",
       "\n",
       "    .dataframe tbody tr th {\n",
       "        vertical-align: top;\n",
       "    }\n",
       "\n",
       "    .dataframe thead th {\n",
       "        text-align: right;\n",
       "    }\n",
       "</style>\n",
       "<table border=\"1\" class=\"dataframe\">\n",
       "  <thead>\n",
       "    <tr style=\"text-align: right;\">\n",
       "      <th></th>\n",
       "      <th>sales</th>\n",
       "      <th>quantityordered</th>\n",
       "    </tr>\n",
       "    <tr>\n",
       "      <th>orderdate</th>\n",
       "      <th></th>\n",
       "      <th></th>\n",
       "    </tr>\n",
       "  </thead>\n",
       "  <tbody>\n",
       "    <tr>\n",
       "      <th>April</th>\n",
       "      <td>3569.377483</td>\n",
       "      <td>35.589404</td>\n",
       "    </tr>\n",
       "    <tr>\n",
       "      <th>August</th>\n",
       "      <td>3451.887801</td>\n",
       "      <td>34.230366</td>\n",
       "    </tr>\n",
       "    <tr>\n",
       "      <th>December</th>\n",
       "      <td>3525.995111</td>\n",
       "      <td>34.961111</td>\n",
       "    </tr>\n",
       "    <tr>\n",
       "      <th>February</th>\n",
       "      <td>3618.044196</td>\n",
       "      <td>35.281250</td>\n",
       "    </tr>\n",
       "    <tr>\n",
       "      <th>January</th>\n",
       "      <td>3431.766114</td>\n",
       "      <td>34.921397</td>\n",
       "    </tr>\n",
       "    <tr>\n",
       "      <th>July</th>\n",
       "      <td>3651.602624</td>\n",
       "      <td>34.744681</td>\n",
       "    </tr>\n",
       "    <tr>\n",
       "      <th>June</th>\n",
       "      <td>3508.295842</td>\n",
       "      <td>35.504950</td>\n",
       "    </tr>\n",
       "    <tr>\n",
       "      <th>March</th>\n",
       "      <td>3558.968821</td>\n",
       "      <td>35.778302</td>\n",
       "    </tr>\n",
       "    <tr>\n",
       "      <th>May</th>\n",
       "      <td>3717.256163</td>\n",
       "      <td>35.575581</td>\n",
       "    </tr>\n",
       "    <tr>\n",
       "      <th>November</th>\n",
       "      <td>3540.821421</td>\n",
       "      <td>34.923858</td>\n",
       "    </tr>\n",
       "    <tr>\n",
       "      <th>October</th>\n",
       "      <td>3563.137209</td>\n",
       "      <td>34.710963</td>\n",
       "    </tr>\n",
       "    <tr>\n",
       "      <th>September</th>\n",
       "      <td>3419.440175</td>\n",
       "      <td>33.222222</td>\n",
       "    </tr>\n",
       "  </tbody>\n",
       "</table>\n",
       "</div>"
      ],
      "text/plain": [
       "                 sales  quantityordered\n",
       "orderdate                              \n",
       "April      3569.377483        35.589404\n",
       "August     3451.887801        34.230366\n",
       "December   3525.995111        34.961111\n",
       "February   3618.044196        35.281250\n",
       "January    3431.766114        34.921397\n",
       "July       3651.602624        34.744681\n",
       "June       3508.295842        35.504950\n",
       "March      3558.968821        35.778302\n",
       "May        3717.256163        35.575581\n",
       "November   3540.821421        34.923858\n",
       "October    3563.137209        34.710963\n",
       "September  3419.440175        33.222222"
      ]
     },
     "execution_count": 25,
     "metadata": {},
     "output_type": "execute_result"
    }
   ],
   "source": [
    "avg_monthly_sales_df = df[['sales', 'quantityordered']].groupby(df['orderdate'].dt.month_name()).mean()\n",
    "avg_monthly_sales_df"
   ]
  },
  {
   "cell_type": "code",
   "execution_count": 26,
   "id": "188ac05a-b3a5-4bc3-994b-2c606c1a0593",
   "metadata": {},
   "outputs": [
    {
     "data": {
      "text/plain": [
       "orderdate\n",
       "April        3569.377483\n",
       "August       3451.887801\n",
       "December     3525.995111\n",
       "February     3618.044196\n",
       "January      3431.766114\n",
       "July         3651.602624\n",
       "June         3508.295842\n",
       "March        3558.968821\n",
       "May          3717.256163\n",
       "November     3540.821421\n",
       "October      3563.137209\n",
       "September    3419.440175\n",
       "Name: sales, dtype: float64"
      ]
     },
     "execution_count": 26,
     "metadata": {},
     "output_type": "execute_result"
    }
   ],
   "source": [
    "avg_monthly_sales = df['sales'].groupby(df['orderdate'].dt.month_name()).mean()\n",
    "avg_monthly_sales"
   ]
  },
  {
   "cell_type": "code",
   "execution_count": 27,
   "id": "4180a138-0cc6-480c-b67f-3d0b368c8945",
   "metadata": {},
   "outputs": [
    {
     "data": {
      "text/plain": [
       "orderdate\n",
       "May         3717.256163\n",
       "July        3651.602624\n",
       "February    3618.044196\n",
       "Name: sales, dtype: float64"
      ]
     },
     "execution_count": 27,
     "metadata": {},
     "output_type": "execute_result"
    }
   ],
   "source": [
    "avg_monthly_sales.nlargest(3)"
   ]
  },
  {
   "cell_type": "code",
   "execution_count": 28,
   "id": "176c824d-97f9-46c8-8d99-70f3f8930937",
   "metadata": {},
   "outputs": [
    {
     "data": {
      "text/plain": [
       "orderdate\n",
       "September    3419.440175\n",
       "January      3431.766114\n",
       "August       3451.887801\n",
       "Name: sales, dtype: float64"
      ]
     },
     "execution_count": 28,
     "metadata": {},
     "output_type": "execute_result"
    }
   ],
   "source": [
    "avg_monthly_sales.nsmallest(3)"
   ]
  },
  {
   "cell_type": "code",
   "execution_count": 29,
   "id": "6b981578-2619-451b-b9c1-af2fc62a2f44",
   "metadata": {},
   "outputs": [
    {
     "data": {
      "image/png": "[encoded data removed]",
      "text/plain": [
       "<Figure size 864x576 with 1 Axes>"
      ]
     },
     "metadata": {
      "needs_background": "light"
     },
     "output_type": "display_data"
    }
   ],
   "source": [
    "plt.subplots(figsize=(12, 8))\n",
    "plt.ticklabel_format(style='plain')\n",
    "plt.plot(months, avg_monthly_sales)\n",
    "plt.xticks(months, fontsize=11, rotation=90)\n",
    "plt.xlabel('Months', fontsize=18)\n",
    "plt.ylabel('Average Sales in ($)', fontsize=16)\n",
    "plt.grid()\n",
    "plt.show()"
   ]
  },
  {
   "cell_type": "markdown",
   "id": "58a82e7c-c6f5-4180-a303-f898bfb14db9",
   "metadata": {},
   "source": [
    "> Based on the graph above, May seems to be the highest record of average monthly sales across all 3 years, followed by July, then February. Lowest record of average monthly sales across all 3 years were September, January, and August"
   ]
  },
  {
   "cell_type": "markdown",
   "id": "3d5e9997-9c83-409b-ace0-6cf7e9ff4176",
   "metadata": {},
   "source": [
    "<br>\n",
    "\n",
    "#### 4. Which year had the most sales?"
   ]
  },
  {
   "cell_type": "code",
   "execution_count": 30,
   "id": "35c1bc06-ca3d-4163-9812-d99fce798e52",
   "metadata": {},
   "outputs": [
    {
     "data": {
      "text/plain": [
       "year_id\n",
       "2003    3468268.62\n",
       "2004    4552125.83\n",
       "2005    1421824.91\n",
       "Name: sales, dtype: float64"
      ]
     },
     "execution_count": 30,
     "metadata": {},
     "output_type": "execute_result"
    }
   ],
   "source": [
    "yearly_sales = df['sales'].groupby(df['year_id']).sum()\n",
    "yearly_sales"
   ]
  },
  {
   "cell_type": "code",
   "execution_count": 31,
   "id": "a3dc27d3-59ee-4323-9ce6-b4507cfe06ef",
   "metadata": {},
   "outputs": [
    {
     "data": {
      "text/plain": [
       "[2003, 2004, 2005]"
      ]
     },
     "execution_count": 31,
     "metadata": {},
     "output_type": "execute_result"
    }
   ],
   "source": [
    "year = [year for year, df in df.groupby('year_id')]\n",
    "year"
   ]
  },
  {
   "cell_type": "code",
   "execution_count": 32,
   "id": "1d402973-94f4-4265-981e-0ba0b1ddf038",
   "metadata": {},
   "outputs": [
    {
     "data": {
      "image/png": "[encoded data removed]",
      "text/plain": [
       "<Figure size 864x576 with 1 Axes>"
      ]
     },
     "metadata": {
      "needs_background": "light"
     },
     "output_type": "display_data"
    }
   ],
   "source": [
    "plt.subplots(figsize=(12, 8))\n",
    "plt.ticklabel_format(style='plain')\n",
    "plt.bar(year, yearly_sales)\n",
    "plt.xticks(year, fontsize=15)\n",
    "plt.ylabel('Sales in ($)', fontsize=16)\n",
    "plt.show()"
   ]
  },
  {
   "cell_type": "markdown",
   "id": "8a02ee38-ce8a-423e-a745-ca5087c79eaf",
   "metadata": {
    "tags": []
   },
   "source": [
    "> The year 2004 had the highest sales"
   ]
  },
  {
   "cell_type": "markdown",
   "id": "69ff88f5-fe93-4165-9fec-30a0f60f81e1",
   "metadata": {},
   "source": [
    "<br>\n",
    "\n",
    "#### 5. Which products sold the most ?"
   ]
  },
  {
   "cell_type": "code",
   "execution_count": 33,
   "id": "13eabf31-9610-4bc4-b58e-4bde474e78aa",
   "metadata": {},
   "outputs": [
    {
     "data": {
      "text/html": [
       "<div>\n",
       "<style scoped>\n",
       "    .dataframe tbody tr th:only-of-type {\n",
       "        vertical-align: middle;\n",
       "    }\n",
       "\n",
       "    .dataframe tbody tr th {\n",
       "        vertical-align: top;\n",
       "    }\n",
       "\n",
       "    .dataframe thead th {\n",
       "        text-align: right;\n",
       "    }\n",
       "</style>\n",
       "<table border=\"1\" class=\"dataframe\">\n",
       "  <thead>\n",
       "    <tr style=\"text-align: right;\">\n",
       "      <th></th>\n",
       "      <th>sales</th>\n",
       "      <th>quantityordered</th>\n",
       "    </tr>\n",
       "    <tr>\n",
       "      <th>productline</th>\n",
       "      <th></th>\n",
       "      <th></th>\n",
       "    </tr>\n",
       "  </thead>\n",
       "  <tbody>\n",
       "    <tr>\n",
       "      <th>Classic Cars</th>\n",
       "      <td>3727559.67</td>\n",
       "      <td>32249</td>\n",
       "    </tr>\n",
       "    <tr>\n",
       "      <th>Vintage Cars</th>\n",
       "      <td>1773127.19</td>\n",
       "      <td>19598</td>\n",
       "    </tr>\n",
       "    <tr>\n",
       "      <th>Motorcycles</th>\n",
       "      <td>1129573.83</td>\n",
       "      <td>11355</td>\n",
       "    </tr>\n",
       "    <tr>\n",
       "      <th>Trucks and Buses</th>\n",
       "      <td>1064570.14</td>\n",
       "      <td>10212</td>\n",
       "    </tr>\n",
       "    <tr>\n",
       "      <th>Planes</th>\n",
       "      <td>900999.49</td>\n",
       "      <td>9831</td>\n",
       "    </tr>\n",
       "    <tr>\n",
       "      <th>Ships</th>\n",
       "      <td>631036.47</td>\n",
       "      <td>7196</td>\n",
       "    </tr>\n",
       "    <tr>\n",
       "      <th>Trains</th>\n",
       "      <td>215352.57</td>\n",
       "      <td>2622</td>\n",
       "    </tr>\n",
       "  </tbody>\n",
       "</table>\n",
       "</div>"
      ],
      "text/plain": [
       "                       sales  quantityordered\n",
       "productline                                  \n",
       "Classic Cars      3727559.67            32249\n",
       "Vintage Cars      1773127.19            19598\n",
       "Motorcycles       1129573.83            11355\n",
       "Trucks and Buses  1064570.14            10212\n",
       "Planes             900999.49             9831\n",
       "Ships              631036.47             7196\n",
       "Trains             215352.57             2622"
      ]
     },
     "execution_count": 33,
     "metadata": {},
     "output_type": "execute_result"
    }
   ],
   "source": [
    "df[['sales', 'quantityordered']].groupby(df['productline']).sum().sort_values(by='quantityordered', ascending=False)"
   ]
  },
  {
   "cell_type": "code",
   "execution_count": 34,
   "id": "3e58a1df-8d07-424a-b3eb-e684693bcbf3",
   "metadata": {},
   "outputs": [
    {
     "data": {
      "text/plain": [
       "productline\n",
       "Classic Cars        3727559.67\n",
       "Motorcycles         1129573.83\n",
       "Planes               900999.49\n",
       "Ships                631036.47\n",
       "Trains               215352.57\n",
       "Trucks and Buses    1064570.14\n",
       "Vintage Cars        1773127.19\n",
       "Name: sales, dtype: float64"
      ]
     },
     "execution_count": 34,
     "metadata": {},
     "output_type": "execute_result"
    }
   ],
   "source": [
    "prod_sales = df['sales'].groupby(df['productline']).sum()\n",
    "prod_sales"
   ]
  },
  {
   "cell_type": "code",
   "execution_count": 35,
   "id": "84b9ed1e-e32e-42f1-b709-0944b45db35d",
   "metadata": {
    "tags": []
   },
   "outputs": [
    {
     "data": {
      "text/plain": [
       "productline\n",
       "Classic Cars    3727559.67\n",
       "Vintage Cars    1773127.19\n",
       "Name: sales, dtype: float64"
      ]
     },
     "execution_count": 35,
     "metadata": {},
     "output_type": "execute_result"
    }
   ],
   "source": [
    "prod_sales.nlargest(2)"
   ]
  },
  {
   "cell_type": "code",
   "execution_count": 36,
   "id": "42099ff4-9c26-4702-95e1-f57f0769492e",
   "metadata": {},
   "outputs": [
    {
     "data": {
      "text/plain": [
       "productline\n",
       "Classic Cars        32249\n",
       "Motorcycles         11355\n",
       "Planes               9831\n",
       "Ships                7196\n",
       "Trains               2622\n",
       "Trucks and Buses    10212\n",
       "Vintage Cars        19598\n",
       "Name: quantityordered, dtype: int64"
      ]
     },
     "execution_count": 36,
     "metadata": {},
     "output_type": "execute_result"
    }
   ],
   "source": [
    "prod_quant = df['quantityordered'].groupby(df['productline']).sum()\n",
    "prod_quant"
   ]
  },
  {
   "cell_type": "code",
   "execution_count": 37,
   "id": "f9ebedd1-b1b4-41b6-8c66-f3c77b424c69",
   "metadata": {},
   "outputs": [
    {
     "data": {
      "text/plain": [
       "productline\n",
       "Classic Cars    32249\n",
       "Vintage Cars    19598\n",
       "Name: quantityordered, dtype: int64"
      ]
     },
     "execution_count": 37,
     "metadata": {},
     "output_type": "execute_result"
    }
   ],
   "source": [
    "prod_quant.nlargest(2)"
   ]
  },
  {
   "cell_type": "code",
   "execution_count": 38,
   "id": "5cb7e635-4509-4e44-8bc7-e5cf002a696a",
   "metadata": {},
   "outputs": [
    {
     "data": {
      "text/plain": [
       "['Classic Cars',\n",
       " 'Motorcycles',\n",
       " 'Planes',\n",
       " 'Ships',\n",
       " 'Trains',\n",
       " 'Trucks and Buses',\n",
       " 'Vintage Cars']"
      ]
     },
     "execution_count": 38,
     "metadata": {},
     "output_type": "execute_result"
    }
   ],
   "source": [
    "products = [x for x, df in df.groupby('productline')]\n",
    "products"
   ]
  },
  {
   "cell_type": "code",
   "execution_count": 39,
   "id": "11fcb90c-e992-4c85-a794-9bbbbb3383b1",
   "metadata": {},
   "outputs": [
    {
     "data": {
      "image/png": "[encoded data removed]",
      "text/plain": [
       "<Figure size 864x576 with 2 Axes>"
      ]
     },
     "metadata": {
      "needs_background": "light"
     },
     "output_type": "display_data"
    }
   ],
   "source": [
    "fig, ax1 = plt.subplots(figsize=(12, 8))\n",
    "plt.ticklabel_format(style='plain')\n",
    "plt.grid()\n",
    "\n",
    "ax2 = ax1.twinx()\n",
    "\n",
    "ax1.bar(products, prod_sales)\n",
    "ax2.plot(products, prod_quant, color='orange')\n",
    "\n",
    "ax1.set_xlabel('Products', fontsize=12)\n",
    "ax1.set_ylabel('Total Sales in ($)', color=(0.2, 0.2, 0.2, 0.6), fontsize=12)\n",
    "ax2.set_ylabel('Quantity Ordered', color='orange', fontsize=12)\n",
    "\n",
    "plt.show()"
   ]
  },
  {
   "cell_type": "markdown",
   "id": "54929fe8-6627-404b-9ac6-36924ae65dfa",
   "metadata": {},
   "source": [
    "> Based on the graph above, we can conclude that Classic Cars & Vintage Cars are the most-selling products, they are the product lines that generate the most revenue."
   ]
  },
  {
   "cell_type": "markdown",
   "id": "643e4244-8c71-498b-837a-cda00c8ea5ab",
   "metadata": {
    "tags": []
   },
   "source": [
    "<br>\n",
    "\n",
    "#### 6. When were the best and worst selling periods ?"
   ]
  },
  {
   "cell_type": "markdown",
   "id": "62276dd4-a53e-4e74-a743-6d7678375005",
   "metadata": {
    "tags": []
   },
   "source": [
    "> to answer this question we will conduct a Time Series Analysis."
   ]
  },
  {
   "cell_type": "code",
   "execution_count": 40,
   "id": "2d901700-bb14-4f36-9b12-9d9e9a2b8a2d",
   "metadata": {},
   "outputs": [],
   "source": [
    "time_series = df['sales'].groupby(df['orderdate']).mean()"
   ]
  },
  {
   "cell_type": "code",
   "execution_count": 41,
   "id": "c3151892-e854-4b44-9ca4-88cfacf71d85",
   "metadata": {},
   "outputs": [
    {
     "data": {
      "image/png": "[encoded data removed]",
      "text/plain": [
       "<Figure size 1008x432 with 1 Axes>"
      ]
     },
     "metadata": {
      "needs_background": "light"
     },
     "output_type": "display_data"
    }
   ],
   "source": [
    "time_series.plot.line(grid='on', figsize=(14, 6), xlabel='Order Date', ylabel='Sales in ($)')\n",
    "plt.show()"
   ]
  },
  {
   "cell_type": "markdown",
   "id": "d3ec19dd-2392-4da2-8a0c-2a55ce0e36e0",
   "metadata": {},
   "source": [
    "> According to the line chart above, the best selling periods were around the **1<sup>st</sup>** quarter in **2004** and the **2<sup>nd</sup>** quarter in **2005**. The worst selling period was around the **2<sup>nd</sup>** quarter in **2005**."
   ]
  },
  {
   "cell_type": "markdown",
   "id": "0aee61f4-ce81-4ef4-9fbc-c7b4a48df9a2",
   "metadata": {
    "tags": []
   },
   "source": [
    "<a id='final'></a>\n",
    "## Data Finalization\n",
    "\n",
    "Exporting the dataset to a .csv file"
   ]
  },
  {
   "cell_type": "code",
   "execution_count": 43,
   "id": "cc10dad3-f94d-4475-bcb5-4f534941debd",
   "metadata": {},
   "outputs": [],
   "source": [
    "df.to_csv('./sales_data_updated.csv', index=False)"
   ]
  },
  {
   "cell_type": "code",
   "execution_count": null,
   "id": "bc2cf06c-c9ce-4bcb-8cd9-a9a958a8fcaa",
   "metadata": {},
   "outputs": [],
   "source": []
  }
 ],
 "metadata": {
  "kernelspec": {
   "display_name": "Python 3 (ipykernel)",
   "language": "python",
   "name": "python3"
  },
  "language_info": {
   "codemirror_mode": {
    "name": "ipython",
    "version": 3
   },
   "file_extension": ".py",
   "mimetype": "text/x-python",
   "name": "python",
   "nbconvert_exporter": "python",
   "pygments_lexer": "ipython3",
   "version": "3.9.7"
  }
 },
 "nbformat": 4,
 "nbformat_minor": 5
}
